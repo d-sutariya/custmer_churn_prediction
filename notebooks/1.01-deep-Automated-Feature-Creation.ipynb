{
 "cells": [
  {
   "cell_type": "code",
   "execution_count": 1,
   "metadata": {},
   "outputs": [],
   "source": [
    "%load_ext autoreload\n",
    "%autoreload 2"
   ]
  },
  {
   "cell_type": "code",
   "execution_count": 2,
   "metadata": {},
   "outputs": [],
   "source": [
    "import sys\n",
    "import os\n",
    "\n",
    "# Add the src directory to the Python path\n",
    "sys.path.append(os.path.abspath(os.path.join('..', 'src')))\n"
   ]
  },
  {
   "cell_type": "code",
   "execution_count": 13,
   "metadata": {},
   "outputs": [],
   "source": [
    "import numpy as np\n",
    "import pandas as pd\n",
    "import warnings\n",
    "import re\n",
    "\n",
    "from features.build_and_transform_features import FeatureGenerater,FeatureTransformer\n",
    "\n",
    "\n",
    "warnings.filterwarnings(\"ignore\")"
   ]
  },
  {
   "cell_type": "code",
   "execution_count": 4,
   "metadata": {},
   "outputs": [],
   "source": [
    "encd_df = pd.read_csv(r\"../data/interim/encd_df.csv\")\n",
    "smoted_df = pd.read_csv(r\"../data/interim/smoted_df.csv\")\n",
    "val_set = pd.read_csv(r\"../data/interim/val_set.csv\")\n",
    "train_set = pd.read_csv(r\"../data/interim/train_set.csv\")\n",
    "test_set = pd.read_csv(r\"../data/interim/test_set.csv\")\n",
    "train_set_splitted = pd.read_csv(r\"../data/interim/train_set_splitted.csv\")"
   ]
  },
  {
   "cell_type": "code",
   "execution_count": 5,
   "metadata": {},
   "outputs": [],
   "source": [
    "# For simplicity i am not taking any aggeragation primitives.\n",
    "trans_list =  [\n",
    " 'multiply_numeric_boolean',\n",
    " 'absolute_diff',\n",
    " 'email_address_to_domain',\n",
    " 'exponential_weighted_variance',\n",
    " 'modulo_numeric',\n",
    " 'rate_of_change',\n",
    " 'url_to_protocol',\n",
    " 'greater_than',\n",
    " 'multiply_numeric_scalar',\n",
    " 'less_than_equal_to',\n",
    " 'longitude',\n",
    " 'age',\n",
    " 'cosine',\n",
    " 'subtract_numeric',\n",
    " 'week',\n",
    " 'cityblock_distance',\n",
    " 'rolling_max',\n",
    " 'subtract_numeric_scalar',\n",
    " 'is_quarter_end',\n",
    " 'less_than_scalar',\n",
    " 'exponential_weighted_std',\n",
    " 'natural_logarithm',\n",
    " 'add_numeric_scalar',\n",
    " 'percent_change',\n",
    " 'subtract_numeric',\n",
    " 'is_lunch_time'\n",
    "]"
   ]
  },
  {
   "cell_type": "code",
   "execution_count": 6,
   "metadata": {},
   "outputs": [
    {
     "name": "stdout",
     "output_type": "stream",
     "text": [
      "2024-08-29 08:50:28,235 featuretools - WARNING    Attempting to add feature <Feature: MonthlyCharges - TotalCharges> which is already present. This is likely a bug.\n",
      "2024-08-29 08:50:28,243 featuretools - WARNING    Attempting to add feature <Feature: MonthlyCharges - Unnamed: 0> which is already present. This is likely a bug.\n",
      "2024-08-29 08:50:28,246 featuretools - WARNING    Attempting to add feature <Feature: MonthlyCharges - tenure> which is already present. This is likely a bug.\n",
      "2024-08-29 08:50:28,255 featuretools - WARNING    Attempting to add feature <Feature: TotalCharges - Unnamed: 0> which is already present. This is likely a bug.\n",
      "2024-08-29 08:50:28,261 featuretools - WARNING    Attempting to add feature <Feature: tenure - TotalCharges> which is already present. This is likely a bug.\n",
      "2024-08-29 08:50:28,263 featuretools - WARNING    Attempting to add feature <Feature: tenure - Unnamed: 0> which is already present. This is likely a bug.\n",
      "2024-08-29 08:50:34,964 featuretools - WARNING    Attempting to add feature <Feature: MonthlyCharges - TotalCharges> which is already present. This is likely a bug.\n",
      "2024-08-29 08:50:34,966 featuretools - WARNING    Attempting to add feature <Feature: MonthlyCharges - Unnamed: 0> which is already present. This is likely a bug.\n",
      "2024-08-29 08:50:34,970 featuretools - WARNING    Attempting to add feature <Feature: MonthlyCharges - tenure> which is already present. This is likely a bug.\n",
      "2024-08-29 08:50:34,970 featuretools - WARNING    Attempting to add feature <Feature: TotalCharges - Unnamed: 0> which is already present. This is likely a bug.\n",
      "2024-08-29 08:50:34,975 featuretools - WARNING    Attempting to add feature <Feature: tenure - TotalCharges> which is already present. This is likely a bug.\n",
      "2024-08-29 08:50:34,979 featuretools - WARNING    Attempting to add feature <Feature: tenure - Unnamed: 0> which is already present. This is likely a bug.\n",
      "2024-08-29 08:50:40,853 featuretools - WARNING    Attempting to add feature <Feature: MonthlyCharges - TotalCharges> which is already present. This is likely a bug.\n",
      "2024-08-29 08:50:40,853 featuretools - WARNING    Attempting to add feature <Feature: MonthlyCharges - Unnamed: 0> which is already present. This is likely a bug.\n",
      "2024-08-29 08:50:40,857 featuretools - WARNING    Attempting to add feature <Feature: MonthlyCharges - tenure> which is already present. This is likely a bug.\n",
      "2024-08-29 08:50:40,857 featuretools - WARNING    Attempting to add feature <Feature: TotalCharges - Unnamed: 0> which is already present. This is likely a bug.\n",
      "2024-08-29 08:50:40,858 featuretools - WARNING    Attempting to add feature <Feature: tenure - TotalCharges> which is already present. This is likely a bug.\n",
      "2024-08-29 08:50:40,858 featuretools - WARNING    Attempting to add feature <Feature: tenure - Unnamed: 0> which is already present. This is likely a bug.\n",
      "2024-08-29 08:50:43,344 featuretools - WARNING    Attempting to add feature <Feature: MonthlyCharges - TotalCharges> which is already present. This is likely a bug.\n",
      "2024-08-29 08:50:43,344 featuretools - WARNING    Attempting to add feature <Feature: MonthlyCharges - Unnamed: 0> which is already present. This is likely a bug.\n",
      "2024-08-29 08:50:43,344 featuretools - WARNING    Attempting to add feature <Feature: MonthlyCharges - tenure> which is already present. This is likely a bug.\n",
      "2024-08-29 08:50:43,344 featuretools - WARNING    Attempting to add feature <Feature: TotalCharges - Unnamed: 0> which is already present. This is likely a bug.\n",
      "2024-08-29 08:50:43,352 featuretools - WARNING    Attempting to add feature <Feature: tenure - TotalCharges> which is already present. This is likely a bug.\n",
      "2024-08-29 08:50:43,353 featuretools - WARNING    Attempting to add feature <Feature: tenure - Unnamed: 0> which is already present. This is likely a bug.\n",
      "2024-08-29 08:50:45,757 featuretools - WARNING    Attempting to add feature <Feature: MonthlyCharges - TotalCharges> which is already present. This is likely a bug.\n",
      "2024-08-29 08:50:45,758 featuretools - WARNING    Attempting to add feature <Feature: MonthlyCharges - Unnamed: 0> which is already present. This is likely a bug.\n",
      "2024-08-29 08:50:45,758 featuretools - WARNING    Attempting to add feature <Feature: MonthlyCharges - tenure> which is already present. This is likely a bug.\n",
      "2024-08-29 08:50:45,761 featuretools - WARNING    Attempting to add feature <Feature: TotalCharges - Unnamed: 0> which is already present. This is likely a bug.\n",
      "2024-08-29 08:50:45,761 featuretools - WARNING    Attempting to add feature <Feature: tenure - TotalCharges> which is already present. This is likely a bug.\n",
      "2024-08-29 08:50:45,763 featuretools - WARNING    Attempting to add feature <Feature: tenure - Unnamed: 0> which is already present. This is likely a bug.\n",
      "2024-08-29 08:50:47,967 featuretools - WARNING    Attempting to add feature <Feature: MonthlyCharges - TotalCharges> which is already present. This is likely a bug.\n",
      "2024-08-29 08:50:47,967 featuretools - WARNING    Attempting to add feature <Feature: MonthlyCharges - Unnamed: 0> which is already present. This is likely a bug.\n",
      "2024-08-29 08:50:47,967 featuretools - WARNING    Attempting to add feature <Feature: MonthlyCharges - tenure> which is already present. This is likely a bug.\n",
      "2024-08-29 08:50:47,970 featuretools - WARNING    Attempting to add feature <Feature: TotalCharges - Unnamed: 0> which is already present. This is likely a bug.\n",
      "2024-08-29 08:50:47,971 featuretools - WARNING    Attempting to add feature <Feature: tenure - TotalCharges> which is already present. This is likely a bug.\n",
      "2024-08-29 08:50:47,971 featuretools - WARNING    Attempting to add feature <Feature: tenure - Unnamed: 0> which is already present. This is likely a bug.\n"
     ]
    }
   ],
   "source": [
    "# while feature generating we shouldn't use Churn and index.\n",
    "# Using Churn will cause data leak\n",
    "# Index is redundant feature\n",
    "ignore_columns = {\n",
    "    'smoted_train':['Churn','index'],\n",
    "    'val_test':['Churn','index',]\n",
    "}\n",
    "val_copy = val_set.copy()\n",
    "\n",
    "# let's generate features for the smoted dataset\n",
    "\n",
    "feature_gen = FeatureGenerater(smoted_df,val_copy,encd_df)\n",
    "feature_gen.Create_Entityset('smoted','smoted_train','val_test','index')\n",
    "\n",
    "# the below sets will be used for the evaluation of the smoted datasets\n",
    "smoted_featured_train_set , smoted_featured_test_set = feature_gen.Generate_Features(trans_list,ignore_columns = ignore_columns , names_only=False)\n",
    "# let's generate features for the splitted_train , val set\n",
    "ignore_columns = {\n",
    "    'train':['Churn','index'],\n",
    "    'test':['Churn','index',]\n",
    "}\n",
    "feature_gen = FeatureGenerater(train_set_splitted,val_set,encd_df)\n",
    "feature_gen.Create_Entityset('validation','train','test','index')\n",
    "\n",
    "# the below sets will be used for the training and validation process\n",
    "featured_train_set , featured_val_set = feature_gen.Generate_Features(trans_list,ignore_columns = ignore_columns , names_only=False)\n",
    "\n",
    "\n",
    "# below code generate the features for the final_train , test set\n",
    "ignore_columns = {\n",
    "    'final_train':['Churn','index'],\n",
    "    'final_test':['Churn','index',]\n",
    "}\n",
    "feature_gen = FeatureGenerater(train_set,test_set,encd_df)\n",
    "feature_gen.Create_Entityset('final','final_train','final_test','index')\n",
    " \n",
    "# the below sets will be used for the train and test the final model that we will get from the val set\n",
    "featured_final_train_set , featured_test_set = feature_gen.Generate_Features(trans_list,ignore_columns = ignore_columns , names_only=False)"
   ]
  },
  {
   "cell_type": "code",
   "execution_count": 7,
   "metadata": {},
   "outputs": [],
   "source": [
    "# Apply the feature engineering pipeline to the training and validation sets\n",
    "# - Fit and transform the training set using the pipeline\n",
    "# - Transform the validation set using the pipeline\n",
    "# - Ensure that the same transformations are applied to both sets\n",
    "\n",
    "feature_transformer = FeatureTransformer(featured_train_set,featured_val_set)\n",
    "transformed_featured_train_set , transformed_featured_val_set = feature_transformer.transform()"
   ]
  },
  {
   "cell_type": "code",
   "execution_count": 8,
   "metadata": {},
   "outputs": [],
   "source": [
    "# transforming final train set and test set\n",
    "feature_transformer = FeatureTransformer(featured_final_train_set,featured_test_set)\n",
    "transformed_featured_final_train_set , transformed_featured_test_set = feature_transformer.transform()"
   ]
  },
  {
   "cell_type": "code",
   "execution_count": 9,
   "metadata": {},
   "outputs": [],
   "source": [
    "feature_transformer = FeatureTransformer(smoted_featured_train_set , smoted_featured_test_set)\n",
    "transformed_featured_smoted_train_set , transformed_featured_smoted_test_set = feature_transformer.transform()"
   ]
  }
 ],
 "metadata": {
  "kernelspec": {
   "display_name": "myenv",
   "language": "python",
   "name": "python3"
  },
  "language_info": {
   "codemirror_mode": {
    "name": "ipython",
    "version": 3
   },
   "file_extension": ".py",
   "mimetype": "text/x-python",
   "name": "python",
   "nbconvert_exporter": "python",
   "pygments_lexer": "ipython3",
   "version": "3.11.7"
  }
 },
 "nbformat": 4,
 "nbformat_minor": 2
}
