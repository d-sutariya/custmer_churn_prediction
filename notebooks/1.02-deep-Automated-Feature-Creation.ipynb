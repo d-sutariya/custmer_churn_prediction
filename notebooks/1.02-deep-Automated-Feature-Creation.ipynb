{
 "cells": [
  {
   "cell_type": "code",
   "execution_count": 1,
   "metadata": {},
   "outputs": [],
   "source": [
    "%load_ext autoreload\n",
    "%autoreload 2"
   ]
  },
  {
   "cell_type": "code",
   "execution_count": 2,
   "metadata": {},
   "outputs": [],
   "source": [
    "import sys\n",
    "import os\n",
    "\n",
    "# Add the src directory to the Python path\n",
    "sys.path.append(os.path.abspath(os.path.join('..', 'src')))\n"
   ]
  },
  {
   "cell_type": "code",
   "execution_count": 13,
   "metadata": {},
   "outputs": [],
   "source": [
    "import numpy as np\n",
    "import pandas as pd\n",
    "import warnings\n",
    "from lightgbm import LGBMClassifier\n",
    "from sklearn.metrics import accuracy_score,precision_score,recall_score\n",
    "\n",
    "from features.generate_and_transform_features import FeatureGenerater,FeatureTransformer\n",
    "\n",
    "warnings.filterwarnings(\"ignore\")"
   ]
  },
  {
   "cell_type": "code",
   "execution_count": 5,
   "metadata": {},
   "outputs": [],
   "source": [
    "encd_df = pd.read_csv(r\"../data/interim/encd_df.csv\")\n",
    "smoted_df = pd.read_csv(r\"../data/interim/smoted_df.csv\")\n",
    "val_set = pd.read_csv(r\"../data/interim/val_set.csv\")\n",
    "train_set = pd.read_csv(r\"../data/interim/train_set.csv\")\n",
    "test_set = pd.read_csv(r\"../data/interim/test_set.csv\")\n",
    "train_set_splitted = pd.read_csv(r\"../data/interim/train_set_splitted.csv\")"
   ]
  },
  {
   "cell_type": "markdown",
   "metadata": {},
   "source": [
    "The `FeatureGenerater` class is designed to generate features automatically. it entity set from the training and testing datasets and generate features using the **Featuretools** library. It offers methods to handle feature cleaning, remove duplicates, and align the datasets. Additionally, it provides flexibility in choosing transformation and aggregation primitives for feature engineering.\n"
   ]
  },
  {
   "cell_type": "markdown",
   "metadata": {},
   "source": [
    "For more detailed information, you can refer to the [documentation](../docs/FeatureGenerater.md) or check out the [source code](../src/features/generate_and_transform_features.py).\n"
   ]
  },
  {
   "cell_type": "code",
   "execution_count": 19,
   "metadata": {},
   "outputs": [],
   "source": [
    "# For simplicity i am not taking any aggeragation primitives.\n",
    "trans_list =  [\n",
    " 'absolute_diff',\n",
    " 'exponential_weighted_variance',\n",
    " 'modulo_numeric',\n",
    " 'greater_than',\n",
    " 'multiply_numeric_scalar',\n",
    " 'less_than_equal_to',\n",
    " 'cosine',\n",
    " 'subtract_numeric',\n",
    " 'rolling_max',\n",
    " 'subtract_numeric_scalar',\n",
    " 'less_than_scalar',\n",
    " 'exponential_weighted_std',\n",
    " 'natural_logarithm',\n",
    " 'add_numeric_scalar',\n",
    " 'percent_change',\n",
    " 'subtract_numeric',\n",
    "]"
   ]
  },
  {
   "cell_type": "code",
   "execution_count": 20,
   "metadata": {},
   "outputs": [
    {
     "name": "stdout",
     "output_type": "stream",
     "text": [
      "2024-08-31 11:59:57,110 featuretools - WARNING    Attempting to add feature <Feature: MonthlyCharges - TotalCharges> which is already present. This is likely a bug.\n",
      "2024-08-31 11:59:57,112 featuretools - WARNING    Attempting to add feature <Feature: MonthlyCharges - tenure> which is already present. This is likely a bug.\n",
      "2024-08-31 11:59:57,112 featuretools - WARNING    Attempting to add feature <Feature: tenure - TotalCharges> which is already present. This is likely a bug.\n",
      "2024-08-31 11:59:57,691 featuretools - WARNING    Attempting to add feature <Feature: MonthlyCharges - TotalCharges> which is already present. This is likely a bug.\n",
      "2024-08-31 11:59:57,693 featuretools - WARNING    Attempting to add feature <Feature: MonthlyCharges - tenure> which is already present. This is likely a bug.\n",
      "2024-08-31 11:59:57,694 featuretools - WARNING    Attempting to add feature <Feature: tenure - TotalCharges> which is already present. This is likely a bug.\n",
      "2024-08-31 11:59:57,993 featuretools - WARNING    Attempting to add feature <Feature: MonthlyCharges - TotalCharges> which is already present. This is likely a bug.\n",
      "2024-08-31 11:59:57,993 featuretools - WARNING    Attempting to add feature <Feature: MonthlyCharges - tenure> which is already present. This is likely a bug.\n",
      "2024-08-31 11:59:57,993 featuretools - WARNING    Attempting to add feature <Feature: tenure - TotalCharges> which is already present. This is likely a bug.\n",
      "2024-08-31 11:59:58,367 featuretools - WARNING    Attempting to add feature <Feature: MonthlyCharges - TotalCharges> which is already present. This is likely a bug.\n",
      "2024-08-31 11:59:58,368 featuretools - WARNING    Attempting to add feature <Feature: MonthlyCharges - tenure> which is already present. This is likely a bug.\n",
      "2024-08-31 11:59:58,369 featuretools - WARNING    Attempting to add feature <Feature: tenure - TotalCharges> which is already present. This is likely a bug.\n",
      "2024-08-31 11:59:58,648 featuretools - WARNING    Attempting to add feature <Feature: MonthlyCharges - TotalCharges> which is already present. This is likely a bug.\n",
      "2024-08-31 11:59:58,648 featuretools - WARNING    Attempting to add feature <Feature: MonthlyCharges - tenure> which is already present. This is likely a bug.\n",
      "2024-08-31 11:59:58,651 featuretools - WARNING    Attempting to add feature <Feature: tenure - TotalCharges> which is already present. This is likely a bug.\n",
      "2024-08-31 11:59:59,049 featuretools - WARNING    Attempting to add feature <Feature: MonthlyCharges - TotalCharges> which is already present. This is likely a bug.\n",
      "2024-08-31 11:59:59,049 featuretools - WARNING    Attempting to add feature <Feature: MonthlyCharges - tenure> which is already present. This is likely a bug.\n",
      "2024-08-31 11:59:59,049 featuretools - WARNING    Attempting to add feature <Feature: tenure - TotalCharges> which is already present. This is likely a bug.\n"
     ]
    }
   ],
   "source": [
    "# while feature generating we shouldn't use Churn and index.\n",
    "# Using Churn will cause data leak\n",
    "# Index is redundant feature (it is used to map Churn values with dataset after shuffling)\n",
    "\n",
    "ignore_columns = {\n",
    "    'smoted_train':['Churn','index'],\n",
    "    'val_test':['Churn','index',]\n",
    "}\n",
    "val_copy = val_set.copy()\n",
    "\n",
    "# let's generate features for the smoted dataset\n",
    "\n",
    "feature_gen = FeatureGenerater(smoted_df,val_copy,encd_df)\n",
    "feature_gen.Create_Entityset('smoted','smoted_train','val_test','index')\n",
    "\n",
    "# the below sets will be used for the evaluation of the smoted datasets\n",
    "smoted_featured_train_set , smoted_featured_test_set = feature_gen.Generate_Features(trans_list,ignore_columns = ignore_columns , names_only=False)\n",
    "# let's generate features for the splitted_train , val set\n",
    "ignore_columns = {\n",
    "    'train':['Churn','index'],\n",
    "    'test':['Churn','index',]\n",
    "}\n",
    "feature_gen = FeatureGenerater(train_set_splitted,val_set,encd_df)\n",
    "feature_gen.Create_Entityset('validation','train','test','index')\n",
    "\n",
    "# the below sets will be used for the training and validation process\n",
    "featured_train_set , featured_val_set = feature_gen.Generate_Features(trans_list,ignore_columns = ignore_columns , names_only=False)\n",
    "\n",
    "\n",
    "# below code generate the features for the final_train , test set\n",
    "ignore_columns = {\n",
    "    'final_train':['Churn','index'],\n",
    "    'final_test':['Churn','index',]\n",
    "}\n",
    "feature_gen = FeatureGenerater(train_set,test_set,encd_df)\n",
    "feature_gen.Create_Entityset('final','final_train','final_test','index')\n",
    " \n",
    "# the below sets will be used for the train and test the final model that we will get from the val set\n",
    "featured_final_train_set , featured_test_set = feature_gen.Generate_Features(trans_list,ignore_columns = ignore_columns , names_only=False)"
   ]
  },
  {
   "cell_type": "markdown",
   "metadata": {},
   "source": [
    "The `FeatureTransformer` class is responsible for transforming the features of training and testing datasets. It handles imputation of missing values, scaling of numerical features, and preserves categorical data. The class also ensures that the transformed datasets are properly formatted and ready for model training and evaluation.\n",
    "\n"
   ]
  },
  {
   "cell_type": "markdown",
   "metadata": {},
   "source": [
    "For more detailed information, you can refer to the [documentation](../docs/FeatureTransformer.md) or check out the [source code](../src/features/generate_and_transform_features.py)."
   ]
  },
  {
   "cell_type": "code",
   "execution_count": 21,
   "metadata": {},
   "outputs": [],
   "source": [
    "# Apply the feature engineering pipeline to the training and validation sets\n",
    "# - Fit and transform the training set using the pipeline\n",
    "# - Transform the validation set using the pipeline\n",
    "# - Ensure that the same transformations are applied to both sets\n",
    "\n",
    "feature_transformer = FeatureTransformer(featured_train_set,featured_val_set)\n",
    "transformed_featured_train_set , transformed_featured_val_set = feature_transformer.transform()"
   ]
  },
  {
   "cell_type": "code",
   "execution_count": 22,
   "metadata": {},
   "outputs": [],
   "source": [
    "# transforming final train set and test set\n",
    "feature_transformer = FeatureTransformer(featured_final_train_set,featured_test_set)\n",
    "transformed_featured_final_train_set , transformed_featured_test_set = feature_transformer.transform()"
   ]
  },
  {
   "cell_type": "code",
   "execution_count": 23,
   "metadata": {},
   "outputs": [],
   "source": [
    "feature_transformer = FeatureTransformer(smoted_featured_train_set , smoted_featured_test_set)\n",
    "transformed_featured_smoted_train_set , transformed_featured_smoted_test_set = feature_transformer.transform()"
   ]
  },
  {
   "cell_type": "markdown",
   "metadata": {},
   "source": [
    "Let's Check performance of the featured datasets."
   ]
  },
  {
   "cell_type": "code",
   "execution_count": 32,
   "metadata": {},
   "outputs": [],
   "source": [
    "model = LGBMClassifier(verbose=-1).fit(featured_train_set.drop(columns='Churn'),featured_train_set['Churn'])\n",
    "y_preds = model.predict(featured_val_set.drop(columns='Churn'))"
   ]
  },
  {
   "cell_type": "code",
   "execution_count": 33,
   "metadata": {},
   "outputs": [
    {
     "name": "stdout",
     "output_type": "stream",
     "text": [
      "accuracy score is  0.8009478672985783\n",
      "precision score is  0.6627906976744186\n",
      "recall score is  0.5089285714285714\n",
      "weighted recall  score is  0.5627803156146178\n"
     ]
    }
   ],
   "source": [
    "print(\"accuracy score is \" ,accuracy_score(y_true=featured_val_set['Churn'],y_pred=y_preds))\n",
    "\n",
    "print(\"precision score is \" ,precision_score(y_true=featured_val_set['Churn'],y_pred=y_preds))\n",
    "\n",
    "print(\"recall score is \" ,recall_score(y_true=featured_val_set['Churn'],y_pred=y_preds))\n",
    "\n",
    "print(\"weighted recall  score is \" , 0.65 *recall_score(y_true=featured_val_set['Churn'],y_pred=y_preds) + 0.35 * precision_score(y_true=transformed_featured_val_set['Churn'],y_pred=y_preds))"
   ]
  }
 ],
 "metadata": {
  "kernelspec": {
   "display_name": "myenv",
   "language": "python",
   "name": "python3"
  },
  "language_info": {
   "codemirror_mode": {
    "name": "ipython",
    "version": 3
   },
   "file_extension": ".py",
   "mimetype": "text/x-python",
   "name": "python",
   "nbconvert_exporter": "python",
   "pygments_lexer": "ipython3",
   "version": "3.11.7"
  }
 },
 "nbformat": 4,
 "nbformat_minor": 2
}
