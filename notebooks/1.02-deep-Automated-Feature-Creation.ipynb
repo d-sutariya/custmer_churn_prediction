{
 "cells": [
  {
   "cell_type": "code",
   "execution_count": 1,
   "metadata": {},
   "outputs": [],
   "source": [
    "%load_ext autoreload\n",
    "%autoreload 2"
   ]
  },
  {
   "cell_type": "code",
   "execution_count": 2,
   "metadata": {},
   "outputs": [],
   "source": [
    "import sys\n",
    "import os\n",
    "\n",
    "# Add the src directory to the Python path\n",
    "sys.path.append(os.path.abspath(os.path.join('..', 'src')))\n"
   ]
  },
  {
   "cell_type": "code",
   "execution_count": 3,
   "metadata": {},
   "outputs": [],
   "source": [
    "import numpy as np\n",
    "import pandas as pd\n",
    "import warnings\n",
    "from lightgbm import LGBMClassifier\n",
    "from sklearn.metrics import accuracy_score,precision_score,recall_score\n",
    "from dotenv import load_dotenv\n",
    "from pathlib import Path\n",
    "\n",
    "from features.generate_and_transform_features import FeatureGenerater,FeatureTransformer\n",
    "\n",
    "warnings.filterwarnings(\"ignore\")\n",
    "np.random.seed(42)"
   ]
  },
  {
   "cell_type": "code",
   "execution_count": 4,
   "metadata": {},
   "outputs": [],
   "source": [
    "env_path = Path('.env')\n",
    "load_dotenv(env_path)\n",
    "\n",
    "root_dir = Path(os.getenv('ROOT_DIRECTORY'))"
   ]
  },
  {
   "cell_type": "code",
   "execution_count": 5,
   "metadata": {},
   "outputs": [],
   "source": [
    "encd_df = pd.read_csv(root_dir/'data'/'interim'/\"encd_df.csv\")\n",
    "smoted_df = pd.read_csv(root_dir/'data'/'interim'/\"smoted_df.csv\")\n",
    "val_set = pd.read_csv(root_dir/'data'/'interim'/\"val_set.csv\")\n",
    "train_set = pd.read_csv(root_dir/'data'/'interim'/\"train_set.csv\")\n",
    "test_set = pd.read_csv(root_dir/'data'/'interim'/\"test_set.csv\")\n",
    "train_set_splitted = pd.read_csv(root_dir/'data'/'interim'/\"train_set_splitted.csv\")"
   ]
  },
  {
   "cell_type": "markdown",
   "metadata": {},
   "source": [
    "The `FeatureGenerater` class is designed to generate features automatically. it entity set from the training and testing datasets and generate features using the **Featuretools** library. It offers methods to handle feature cleaning, remove duplicates, and align the datasets. Additionally, it provides flexibility in choosing transformation and aggregation primitives for feature engineering.\n"
   ]
  },
  {
   "cell_type": "markdown",
   "metadata": {},
   "source": [
    "For more detailed information, you can refer to the [documentation](../docs/FeatureGenerater.md) or check out the [source code](../src/features/generate_and_transform_features.py).\n"
   ]
  },
  {
   "cell_type": "code",
   "execution_count": 6,
   "metadata": {},
   "outputs": [],
   "source": [
    "# For simplicity i am not taking any aggeragation primitives.\n",
    "trans_list =  [\n",
    " 'absolute_diff',\n",
    " 'exponential_weighted_variance',\n",
    " 'modulo_numeric',\n",
    " 'greater_than',\n",
    " 'multiply_numeric_scalar',\n",
    " 'less_than_equal_to',\n",
    " 'cosine',\n",
    " 'subtract_numeric',\n",
    " 'rolling_max',\n",
    " 'subtract_numeric_scalar',\n",
    " 'less_than_scalar',\n",
    " 'exponential_weighted_std',\n",
    " 'natural_logarithm',\n",
    " 'add_numeric_scalar',\n",
    " 'percent_change',\n",
    " 'subtract_numeric',\n",
    "]"
   ]
  },
  {
   "cell_type": "code",
   "execution_count": 7,
   "metadata": {},
   "outputs": [
    {
     "name": "stdout",
     "output_type": "stream",
     "text": [
      "2024-09-15 10:50:55,142 featuretools - WARNING    Attempting to add feature <Feature: MonthlyCharges - TotalCharges> which is already present. This is likely a bug.\n",
      "2024-09-15 10:50:55,145 featuretools - WARNING    Attempting to add feature <Feature: MonthlyCharges - tenure> which is already present. This is likely a bug.\n",
      "2024-09-15 10:50:55,145 featuretools - WARNING    Attempting to add feature <Feature: tenure - TotalCharges> which is already present. This is likely a bug.\n",
      "2024-09-15 10:50:55,760 featuretools - WARNING    Attempting to add feature <Feature: MonthlyCharges - TotalCharges> which is already present. This is likely a bug.\n",
      "2024-09-15 10:50:55,760 featuretools - WARNING    Attempting to add feature <Feature: MonthlyCharges - tenure> which is already present. This is likely a bug.\n",
      "2024-09-15 10:50:55,760 featuretools - WARNING    Attempting to add feature <Feature: tenure - TotalCharges> which is already present. This is likely a bug.\n",
      "2024-09-15 10:50:56,282 featuretools - WARNING    Attempting to add feature <Feature: MonthlyCharges - TotalCharges> which is already present. This is likely a bug.\n",
      "2024-09-15 10:50:56,290 featuretools - WARNING    Attempting to add feature <Feature: MonthlyCharges - tenure> which is already present. This is likely a bug.\n",
      "2024-09-15 10:50:56,293 featuretools - WARNING    Attempting to add feature <Feature: tenure - TotalCharges> which is already present. This is likely a bug.\n",
      "2024-09-15 10:50:56,676 featuretools - WARNING    Attempting to add feature <Feature: MonthlyCharges - TotalCharges> which is already present. This is likely a bug.\n",
      "2024-09-15 10:50:56,676 featuretools - WARNING    Attempting to add feature <Feature: MonthlyCharges - tenure> which is already present. This is likely a bug.\n",
      "2024-09-15 10:50:56,676 featuretools - WARNING    Attempting to add feature <Feature: tenure - TotalCharges> which is already present. This is likely a bug.\n",
      "2024-09-15 10:50:57,462 featuretools - WARNING    Attempting to add feature <Feature: MonthlyCharges - TotalCharges> which is already present. This is likely a bug.\n",
      "2024-09-15 10:50:57,462 featuretools - WARNING    Attempting to add feature <Feature: MonthlyCharges - tenure> which is already present. This is likely a bug.\n",
      "2024-09-15 10:50:57,462 featuretools - WARNING    Attempting to add feature <Feature: tenure - TotalCharges> which is already present. This is likely a bug.\n",
      "2024-09-15 10:50:57,937 featuretools - WARNING    Attempting to add feature <Feature: MonthlyCharges - TotalCharges> which is already present. This is likely a bug.\n",
      "2024-09-15 10:50:57,937 featuretools - WARNING    Attempting to add feature <Feature: MonthlyCharges - tenure> which is already present. This is likely a bug.\n",
      "2024-09-15 10:50:57,937 featuretools - WARNING    Attempting to add feature <Feature: tenure - TotalCharges> which is already present. This is likely a bug.\n"
     ]
    }
   ],
   "source": [
    "# while feature generating we shouldn't use Churn and index.\n",
    "# Using Churn will cause data leak\n",
    "# Index is redundant feature (it is used to map Churn values with dataset after shuffling)\n",
    "\n",
    "ignore_columns = {\n",
    "    'smoted_train':['Churn','index'],\n",
    "    'val_test':['Churn','index']\n",
    "}\n",
    "val_copy = val_set.copy()\n",
    "\n",
    "# let's generate features for the smoted dataset\n",
    "\n",
    "feature_gen = FeatureGenerater(encd_df,smoted_df,val_copy)\n",
    "feature_gen.Create_Entityset('smoted','smoted_train','val_test','index')\n",
    "\n",
    "# the below sets will be used for the evaluation of the smoted datasets\n",
    "smoted_featured_train_set , smoted_featured_test_set = feature_gen.Generate_Features(trans_list,ignore_columns = ignore_columns , names_only=False)\n",
    "# let's generate features for the splitted_train , val set\n",
    "ignore_columns = {\n",
    "    'train':['Churn','index'],\n",
    "    'test':['Churn','index']\n",
    "}\n",
    "feature_gen = FeatureGenerater(encd_df,train_set_splitted,val_set)\n",
    "feature_gen.Create_Entityset('validation','train','test','index')\n",
    "\n",
    "# the below sets will be used for the training and validation process\n",
    "featured_train_set , featured_val_set = feature_gen.Generate_Features(trans_list,ignore_columns = ignore_columns , names_only=False)\n",
    "\n",
    "\n",
    "# below code generate the features for the final_train , test set\n",
    "ignore_columns = {\n",
    "    'final_train':['Churn','index'],\n",
    "    'final_test':['Churn','index']\n",
    "}\n",
    "feature_gen = FeatureGenerater(encd_df,train_set,test_set)\n",
    "feature_gen.Create_Entityset('final','final_train','final_test','index')\n",
    " \n",
    "# the below sets will be used for the train and test the final model that we will get from the val set\n",
    "featured_final_train_set , featured_test_set = feature_gen.Generate_Features(trans_list,ignore_columns = ignore_columns , names_only=False)"
   ]
  },
  {
   "cell_type": "markdown",
   "metadata": {},
   "source": [
    "The `FeatureTransformer` class is responsible for transforming the features of training and testing datasets. It handles imputation of missing values, scaling of numerical features, and preserves categorical data. The class also ensures that the transformed datasets are properly formatted and ready for model training and evaluation.\n",
    "\n"
   ]
  },
  {
   "cell_type": "markdown",
   "metadata": {},
   "source": [
    "For more detailed information, you can refer to the [documentation](../docs/FeatureTransformer.md) or check out the [source code](../src/features/generate_and_transform_features.py)."
   ]
  },
  {
   "cell_type": "code",
   "execution_count": 8,
   "metadata": {},
   "outputs": [],
   "source": [
    "# Apply the feature engineering pipeline to the training and validation sets\n",
    "# - Fit and transform the training set using the pipeline\n",
    "# - Transform the validation set using the pipeline\n",
    "# - Ensure that the same transformations are applied to both sets\n",
    "\n",
    "feature_transformer = FeatureTransformer(featured_train_set,featured_val_set)\n",
    "transformed_featured_train_set , transformed_featured_val_set = feature_transformer.transform()"
   ]
  },
  {
   "cell_type": "code",
   "execution_count": 9,
   "metadata": {},
   "outputs": [],
   "source": [
    "# transforming final train set and test set\n",
    "feature_transformer = FeatureTransformer(featured_final_train_set,featured_test_set)\n",
    "transformed_featured_final_train_set , transformed_featured_test_set = feature_transformer.transform()"
   ]
  },
  {
   "cell_type": "code",
   "execution_count": 10,
   "metadata": {},
   "outputs": [],
   "source": [
    "feature_transformer = FeatureTransformer(smoted_featured_train_set , smoted_featured_test_set)\n",
    "transformed_featured_smoted_train_set , transformed_featured_smoted_test_set = feature_transformer.transform()"
   ]
  },
  {
   "cell_type": "markdown",
   "metadata": {},
   "source": [
    "Let's Check performance of the featured datasets."
   ]
  },
  {
   "cell_type": "code",
   "execution_count": 11,
   "metadata": {},
   "outputs": [],
   "source": [
    "model = LGBMClassifier(verbose=-1).fit(featured_train_set.drop(columns='Churn'),featured_train_set['Churn'])\n",
    "y_preds = model.predict(featured_val_set.drop(columns='Churn'))"
   ]
  },
  {
   "cell_type": "code",
   "execution_count": 12,
   "metadata": {},
   "outputs": [
    {
     "name": "stdout",
     "output_type": "stream",
     "text": [
      "accuracy score is  0.8002364066193853\n",
      "precision score is  0.655367231638418\n",
      "recall score is  0.5178571428571429\n",
      "weighted recall  score is  0.5659856739305892\n"
     ]
    }
   ],
   "source": [
    "print(\"accuracy score is \" ,accuracy_score(y_true=featured_val_set['Churn'],y_pred=y_preds))\n",
    "\n",
    "print(\"precision score is \" ,precision_score(y_true=featured_val_set['Churn'],y_pred=y_preds))\n",
    "\n",
    "print(\"recall score is \" ,recall_score(y_true=featured_val_set['Churn'],y_pred=y_preds))\n",
    "\n",
    "print(\"weighted recall  score is \" , 0.65 *recall_score(y_true=featured_val_set['Churn'],y_pred=y_preds) + 0.35 * precision_score(y_true=transformed_featured_val_set['Churn'],y_pred=y_preds))"
   ]
  }
 ],
 "metadata": {
  "kernelspec": {
   "display_name": "myenv",
   "language": "python",
   "name": "python3"
  },
  "language_info": {
   "codemirror_mode": {
    "name": "ipython",
    "version": 3
   },
   "file_extension": ".py",
   "mimetype": "text/x-python",
   "name": "python",
   "nbconvert_exporter": "python",
   "pygments_lexer": "ipython3",
   "version": "3.11.7"
  }
 },
 "nbformat": 4,
 "nbformat_minor": 2
}
