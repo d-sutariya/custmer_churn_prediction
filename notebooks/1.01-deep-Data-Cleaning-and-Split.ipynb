{
 "cells": [
  {
   "cell_type": "code",
   "execution_count": 1,
   "metadata": {},
   "outputs": [],
   "source": [
    "%load_ext autoreload\n",
    "%autoreload 2"
   ]
  },
  {
   "cell_type": "code",
   "execution_count": 2,
   "metadata": {},
   "outputs": [],
   "source": [
    "import sys\n",
    "import os\n",
    "\n",
    "# Add the src directory to the Python path\n",
    "sys.path.append(os.path.abspath(os.path.join('..', 'src')))\n"
   ]
  },
  {
   "cell_type": "code",
   "execution_count": 3,
   "metadata": {},
   "outputs": [],
   "source": [
    "import numpy as np\n",
    "from sklearn.metrics import recall_score,accuracy_score,precision_score\n",
    "from imblearn.over_sampling import SMOTE\n",
    "from lightgbm import LGBMClassifier \n",
    "import warnings\n",
    "import os\n",
    "from pathlib import Path\n",
    "from dotenv import load_dotenv\n",
    "\n",
    "\n",
    "from data.data_utils import DataLoader,split_data"
   ]
  },
  {
   "cell_type": "code",
   "execution_count": 4,
   "metadata": {},
   "outputs": [],
   "source": [
    "warnings.filterwarnings(\"ignore\")\n",
    "np.random.seed(42)"
   ]
  },
  {
   "cell_type": "code",
   "execution_count": 5,
   "metadata": {},
   "outputs": [],
   "source": [
    "env_path = Path('.env')\n",
    "load_dotenv(env_path)\n",
    "\n",
    "root_dir = Path(os.getenv('ROOT_DIRECTORY'))\n",
    "data_path = root_dir/'data'/'raw'/'WA_Fn-UseC_-Telco-Customer-Churn.csv'"
   ]
  },
  {
   "cell_type": "markdown",
   "metadata": {},
   "source": [
    "# Data preprocessing"
   ]
  },
  {
   "cell_type": "markdown",
   "metadata": {},
   "source": [
    "The `DataLoader` class is responsible for loading data from a CSV file and performing basic preprocessing steps, including handling categorical variables and missing values. It also provides a method to preprocess data by creating dummy variables for categorical features. The `split_data` function then splits the preprocessed data into training, testing, and validation datasets, ensuring a balanced distribution of the target variable.\n"
   ]
  },
  {
   "cell_type": "markdown",
   "metadata": {},
   "source": [
    "For more detailed information, you can refer to the [documentation](../docs/DataLoader.md) or check out the [source code](../src/data/data_utils.py).\n"
   ]
  },
  {
   "cell_type": "code",
   "execution_count": 6,
   "metadata": {},
   "outputs": [],
   "source": [
    "#load the data\n",
    "data_loader = DataLoader(data_path)\n",
    "df = data_loader.load_data()\n",
    "encd_df = data_loader.preprocess_data()"
   ]
  },
  {
   "cell_type": "code",
   "execution_count": 7,
   "metadata": {},
   "outputs": [
    {
     "name": "stdout",
     "output_type": "stream",
     "text": [
      "<class 'pandas.core.frame.DataFrame'>\n",
      "RangeIndex: 7043 entries, 0 to 7042\n",
      "Data columns (total 21 columns):\n",
      " #   Column            Non-Null Count  Dtype  \n",
      "---  ------            --------------  -----  \n",
      " 0   index             7043 non-null   int64  \n",
      " 1   gender            7043 non-null   object \n",
      " 2   SeniorCitizen     7043 non-null   object \n",
      " 3   Partner           7043 non-null   object \n",
      " 4   Dependents        7043 non-null   object \n",
      " 5   tenure            7043 non-null   int64  \n",
      " 6   PhoneService      7043 non-null   object \n",
      " 7   MultipleLines     7043 non-null   object \n",
      " 8   InternetService   7043 non-null   object \n",
      " 9   OnlineSecurity    7043 non-null   object \n",
      " 10  OnlineBackup      7043 non-null   object \n",
      " 11  DeviceProtection  7043 non-null   object \n",
      " 12  TechSupport       7043 non-null   object \n",
      " 13  StreamingTV       7043 non-null   object \n",
      " 14  StreamingMovies   7043 non-null   object \n",
      " 15  Contract          7043 non-null   object \n",
      " 16  PaperlessBilling  7043 non-null   object \n",
      " 17  PaymentMethod     7043 non-null   object \n",
      " 18  MonthlyCharges    7043 non-null   float64\n",
      " 19  TotalCharges      7032 non-null   float64\n",
      " 20  Churn             7043 non-null   int64  \n",
      "dtypes: float64(2), int64(3), object(16)\n",
      "memory usage: 1.1+ MB\n"
     ]
    }
   ],
   "source": [
    "df.info()"
   ]
  },
  {
   "cell_type": "markdown",
   "metadata": {},
   "source": [
    "## Data Splitting"
   ]
  },
  {
   "cell_type": "code",
   "execution_count": 8,
   "metadata": {},
   "outputs": [
    {
     "data": {
      "text/plain": [
       "(4788, 47)"
      ]
     },
     "execution_count": 8,
     "metadata": {},
     "output_type": "execute_result"
    }
   ],
   "source": [
    "train_set,test_set,train_set_splitted,val_set = split_data(encd_df.dropna())\n",
    "X_train , y_train , X_test , y_test = train_set.drop(columns=['Churn','index']) , train_set['Churn'] , test_set.drop(columns=['index','Churn']) , test_set['Churn']\n",
    "X_train_splitted , y_train_splitted, X_val,y_val = train_set_splitted.drop('Churn',axis = 1 ) , train_set_splitted['Churn'] , val_set.drop('Churn',axis = 1) , val_set['Churn']\n",
    "X_train_splitted.shape"
   ]
  },
  {
   "cell_type": "code",
   "execution_count": 9,
   "metadata": {},
   "outputs": [],
   "source": [
    "# there is class imbalance that can affect results\n",
    "# To experiment with balance dataset I am using SMOTE algorithm.\n",
    "X_train_smoted,y_train_smoted = SMOTE().fit_resample(X_train_splitted,y_train_splitted)"
   ]
  },
  {
   "cell_type": "code",
   "execution_count": 10,
   "metadata": {},
   "outputs": [],
   "source": [
    "smoted_df = X_train_smoted\n",
    "smoted_df['Churn'] = y_train_smoted\n",
    "smoted_df = smoted_df.drop(columns='index').reset_index()"
   ]
  },
  {
   "cell_type": "code",
   "execution_count": 11,
   "metadata": {},
   "outputs": [],
   "source": [
    "# train_set.to_csv(root_dir/'data'/'interim'/'train_set.csv',index=False)\n",
    "# encd_df.to_csv(root_dir/'data'/'interim'/'encd_df.csv',index=False)\n",
    "# smoted_df.to_csv(root_dir/'data'/'interim'/'smoted_df.csv',index=False)\n",
    "# val_set.to_csv(root_dir/'data'/'interim'/'val_set.csv',index=False)\n",
    "# test_set.to_csv(root_dir/'data'/'interim'/'test_set.csv',index=False)\n",
    "# train_set_splitted.to_csv(root_dir/'data'/'interim'/'train_set_splitted.csv',index=False)"
   ]
  },
  {
   "cell_type": "markdown",
   "metadata": {},
   "source": [
    "### Let us define the base line score for our future work."
   ]
  },
  {
   "cell_type": "code",
   "execution_count": 12,
   "metadata": {},
   "outputs": [],
   "source": [
    "model = LGBMClassifier(verbose=-1).fit(X_train_splitted,y_train_splitted)\n",
    "y_preds = model.predict(X_val)"
   ]
  },
  {
   "cell_type": "markdown",
   "metadata": {},
   "source": [
    "I am going to use weighted recall (it's formula is ``0.65 * recall + 0.35 * precision``) as my primary evaluation metric. As recall is more important in this Project."
   ]
  },
  {
   "cell_type": "code",
   "execution_count": 13,
   "metadata": {},
   "outputs": [
    {
     "name": "stdout",
     "output_type": "stream",
     "text": [
      "accuracy score is  0.7836879432624113\n",
      "precision score is  0.6171428571428571\n",
      "recall score is  0.48214285714285715\n",
      "weighted recall  score is  0.5293928571428571\n"
     ]
    }
   ],
   "source": [
    "print(\"accuracy score is \" ,accuracy_score(y_true=y_val,y_pred=y_preds))\n",
    "\n",
    "print(\"precision score is \" ,precision_score(y_true=y_val,y_pred=y_preds))\n",
    "\n",
    "print(\"recall score is \" ,recall_score(y_true=y_val,y_pred=y_preds))\n",
    "\n",
    "print(\"weighted recall  score is \" , 0.65 *recall_score(y_true=y_val,y_pred=y_preds) + 0.35 * precision_score(y_true=y_val,y_pred=y_preds))"
   ]
  }
 ],
 "metadata": {
  "kernelspec": {
   "display_name": "myenv",
   "language": "python",
   "name": "python3"
  },
  "language_info": {
   "codemirror_mode": {
    "name": "ipython",
    "version": 3
   },
   "file_extension": ".py",
   "mimetype": "text/x-python",
   "name": "python",
   "nbconvert_exporter": "python",
   "pygments_lexer": "ipython3",
   "version": "3.11.7"
  }
 },
 "nbformat": 4,
 "nbformat_minor": 2
}
